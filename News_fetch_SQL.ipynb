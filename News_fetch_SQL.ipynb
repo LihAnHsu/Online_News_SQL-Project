{
  "nbformat": 4,
  "nbformat_minor": 0,
  "metadata": {
    "colab": {
      "provenance": []
    },
    "kernelspec": {
      "name": "python3",
      "display_name": "Python 3"
    },
    "language_info": {
      "name": "python"
    }
  },
  "cells": [
    {
      "cell_type": "code",
      "execution_count": 2,
      "metadata": {
        "id": "fi6YVebSvpMw",
        "colab": {
          "base_uri": "https://localhost:8080/"
        },
        "outputId": "c2598c2d-1fbe-4825-9b3f-6ae3499b1846"
      },
      "outputs": [
        {
          "output_type": "stream",
          "name": "stdout",
          "text": [
            "Looking in indexes: https://pypi.org/simple, https://us-python.pkg.dev/colab-wheels/public/simple/\n",
            "Requirement already satisfied: newsapi-python in /usr/local/lib/python3.10/dist-packages (0.2.7)\n",
            "Requirement already satisfied: requests<3.0.0 in /usr/local/lib/python3.10/dist-packages (from newsapi-python) (2.27.1)\n",
            "Requirement already satisfied: urllib3<1.27,>=1.21.1 in /usr/local/lib/python3.10/dist-packages (from requests<3.0.0->newsapi-python) (1.26.15)\n",
            "Requirement already satisfied: certifi>=2017.4.17 in /usr/local/lib/python3.10/dist-packages (from requests<3.0.0->newsapi-python) (2022.12.7)\n",
            "Requirement already satisfied: charset-normalizer~=2.0.0 in /usr/local/lib/python3.10/dist-packages (from requests<3.0.0->newsapi-python) (2.0.12)\n",
            "Requirement already satisfied: idna<4,>=2.5 in /usr/local/lib/python3.10/dist-packages (from requests<3.0.0->newsapi-python) (3.4)\n"
          ]
        }
      ],
      "source": [
        "!pip install newsapi-python"
      ]
    },
    {
      "cell_type": "code",
      "source": [
        "from newsapi import NewsApiClient\n",
        "\n",
        "# Initialize the NewsAPI client\n",
        "newsapi = NewsApiClient(api_key='aa174a01be9f4341bc8abcdb8143b6b5')"
      ],
      "metadata": {
        "id": "9IIMHuY-vvvp"
      },
      "execution_count": 3,
      "outputs": []
    },
    {
      "cell_type": "code",
      "source": [
        "all_articles = newsapi.get_everything(q='AI job',\n",
        "                                      language='en',\n",
        "                                      page_size=100)"
      ],
      "metadata": {
        "id": "r63I5zjswIpM"
      },
      "execution_count": 7,
      "outputs": []
    },
    {
      "cell_type": "code",
      "source": [],
      "metadata": {
        "id": "WFM7f-_3w97T"
      },
      "execution_count": null,
      "outputs": []
    },
    {
      "cell_type": "markdown",
      "source": [
        "Establish a connection to the SQLite database: Connect to SQLite database using sqlite3.connect(). "
      ],
      "metadata": {
        "id": "mcXn5tFbxcPU"
      }
    },
    {
      "cell_type": "code",
      "source": [
        "import sqlite3\n",
        "\n",
        "# Establish a connection to the SQLite database\n",
        "connection = sqlite3.connect('news_articles.db')"
      ],
      "metadata": {
        "id": "rUbDypmixdzl"
      },
      "execution_count": 9,
      "outputs": []
    },
    {
      "cell_type": "code",
      "source": [],
      "metadata": {
        "id": "VqY3tH4yxlMZ"
      },
      "execution_count": null,
      "outputs": []
    },
    {
      "cell_type": "markdown",
      "source": [
        "Create a cursor object and execute SQL statements: Create a cursor object using conn.cursor() and execute SQL statements to create a table and insert the news articles into the database. "
      ],
      "metadata": {
        "id": "RSrL1jGcx_3P"
      }
    },
    {
      "cell_type": "code",
      "source": [
        "cursor = connection.cursor()\n",
        "\n",
        "cursor.execute('CREATE TABLE articles (title TEXT, description TEXT, source TEXT, published_at TEXT)')\n",
        "\n",
        "for article in all_articles['articles']:\n",
        "\n",
        "    cursor.execute('INSERT INTO articles VALUES (?, ?, ?, ?)',\n",
        "                   \n",
        "                   (article['title'], article['description'], article['source']['name'], article['publishedAt']))"
      ],
      "metadata": {
        "id": "NLc99OHeyAka"
      },
      "execution_count": 10,
      "outputs": []
    },
    {
      "cell_type": "code",
      "source": [],
      "metadata": {
        "id": "08QB9FxjydI1"
      },
      "execution_count": null,
      "outputs": []
    },
    {
      "cell_type": "markdown",
      "source": [
        "Commit changes and close the connection: After executing the SQL statements, commit the changes and close the connection."
      ],
      "metadata": {
        "id": "FjWGd678ydiE"
      }
    },
    {
      "cell_type": "code",
      "source": [
        "connection.commit()\n",
        "\n",
        "connection.close()"
      ],
      "metadata": {
        "id": "FUgpGGNIyeG9"
      },
      "execution_count": 11,
      "outputs": []
    },
    {
      "cell_type": "code",
      "source": [
        "from google.colab import files\n",
        "\n",
        "files.download('news_articles.db')"
      ],
      "metadata": {
        "colab": {
          "base_uri": "https://localhost:8080/",
          "height": 17
        },
        "id": "dpq3Ex_Iy5V-",
        "outputId": "1172137b-1af0-4605-c967-0d6a8d84c6e0"
      },
      "execution_count": 12,
      "outputs": [
        {
          "output_type": "display_data",
          "data": {
            "text/plain": [
              "<IPython.core.display.Javascript object>"
            ],
            "application/javascript": [
              "\n",
              "    async function download(id, filename, size) {\n",
              "      if (!google.colab.kernel.accessAllowed) {\n",
              "        return;\n",
              "      }\n",
              "      const div = document.createElement('div');\n",
              "      const label = document.createElement('label');\n",
              "      label.textContent = `Downloading \"${filename}\": `;\n",
              "      div.appendChild(label);\n",
              "      const progress = document.createElement('progress');\n",
              "      progress.max = size;\n",
              "      div.appendChild(progress);\n",
              "      document.body.appendChild(div);\n",
              "\n",
              "      const buffers = [];\n",
              "      let downloaded = 0;\n",
              "\n",
              "      const channel = await google.colab.kernel.comms.open(id);\n",
              "      // Send a message to notify the kernel that we're ready.\n",
              "      channel.send({})\n",
              "\n",
              "      for await (const message of channel.messages) {\n",
              "        // Send a message to notify the kernel that we're ready.\n",
              "        channel.send({})\n",
              "        if (message.buffers) {\n",
              "          for (const buffer of message.buffers) {\n",
              "            buffers.push(buffer);\n",
              "            downloaded += buffer.byteLength;\n",
              "            progress.value = downloaded;\n",
              "          }\n",
              "        }\n",
              "      }\n",
              "      const blob = new Blob(buffers, {type: 'application/binary'});\n",
              "      const a = document.createElement('a');\n",
              "      a.href = window.URL.createObjectURL(blob);\n",
              "      a.download = filename;\n",
              "      div.appendChild(a);\n",
              "      a.click();\n",
              "      div.remove();\n",
              "    }\n",
              "  "
            ]
          },
          "metadata": {}
        },
        {
          "output_type": "display_data",
          "data": {
            "text/plain": [
              "<IPython.core.display.Javascript object>"
            ],
            "application/javascript": [
              "download(\"download_3dd58537-9d12-4a92-a5f1-aa17248f9f5a\", \"news_articles.db\", 40960)"
            ]
          },
          "metadata": {}
        }
      ]
    },
    {
      "cell_type": "code",
      "source": [],
      "metadata": {
        "id": "pAuOEAcizqV6"
      },
      "execution_count": null,
      "outputs": []
    }
  ]
}